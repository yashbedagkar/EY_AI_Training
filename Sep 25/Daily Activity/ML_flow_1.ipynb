{
 "cells": [
  {
   "cell_type": "code",
   "execution_count": 1,
   "id": "c0161795-eb03-4b66-86cc-c2ac6eb41ce8",
   "metadata": {},
   "outputs": [
    {
     "name": "stderr",
     "output_type": "stream",
     "text": [
      "2025/09/25 14:28:29 WARNING mlflow.models.model: `artifact_path` is deprecated. Please use `name` instead.\n",
      "Successfully registered model 'RandomForest_Iris'.\n",
      "2025/09/25 14:29:02 INFO mlflow.store.model_registry.abstract_store: Waiting up to 300 seconds for model version to finish creation. Model name: RandomForest_Iris, version 1\n"
     ]
    },
    {
     "name": "stdout",
     "output_type": "stream",
     "text": [
      "🏃 View run iris_rf_model at: http://127.0.0.1:5000/#/experiments/0/runs/c540c7c9770341b0b74f03359cc1d4cb\n",
      "🧪 View experiment at: http://127.0.0.1:5000/#/experiments/0\n",
      "✅ Run completed. Check MLflow UI at http://127.0.0.1:5000\n"
     ]
    },
    {
     "name": "stderr",
     "output_type": "stream",
     "text": [
      "Created version '1' of model 'RandomForest_Iris'.\n"
     ]
    }
   ],
   "source": [
    "import mlflow\n",
    "import mlflow.sklearn\n",
    "from sklearn.datasets import load_iris\n",
    "from sklearn.ensemble import RandomForestClassifier\n",
    "from sklearn.model_selection import train_test_split\n",
    "\n",
    "# Set tracking server\n",
    "mlflow.set_tracking_uri(\"http://127.0.0.1:5000\")\n",
    "\n",
    "# Data\n",
    "X, y = load_iris(return_X_y=True)\n",
    "X_train, X_test, y_train, y_test = train_test_split(X, y, test_size=0.2, random_state=42)\n",
    "\n",
    "# Start experiment\n",
    "with mlflow.start_run(run_name=\"iris_rf_model\"):\n",
    "    model = RandomForestClassifier(n_estimators=50, random_state=42)\n",
    "    model.fit(X_train, y_train)\n",
    "    acc = model.score(X_test, y_test)\n",
    "    \n",
    "    # Log params and metrics\n",
    "    mlflow.log_param(\"n_estimators\", 50)\n",
    "    mlflow.log_metric(\"accuracy\", acc)\n",
    "    \n",
    "    # Log model with input example + signature\n",
    "    mlflow.sklearn.log_model(\n",
    "        sk_model=model,\n",
    "        artifact_path=\"rf_model\",\n",
    "        input_example=X_train[:5],  # small sample\n",
    "        registered_model_name=\"RandomForest_Iris\"\n",
    "    )\n",
    "\n",
    "print(\"✅ Run completed. Check MLflow UI at http://127.0.0.1:5000\")"
   ]
  },
  {
   "cell_type": "code",
   "execution_count": 2,
   "id": "1aebafc9-3963-4f7d-a1cd-3f9005000726",
   "metadata": {},
   "outputs": [
    {
     "name": "stderr",
     "output_type": "stream",
     "text": [
      "2025/09/25 14:30:03 WARNING mlflow.models.model: `artifact_path` is deprecated. Please use `name` instead.\n",
      "Registered model 'RandomForest_Iris' already exists. Creating a new version of this model...\n",
      "2025/09/25 14:30:08 INFO mlflow.store.model_registry.abstract_store: Waiting up to 300 seconds for model version to finish creation. Model name: RandomForest_Iris, version 2\n",
      "Created version '2' of model 'RandomForest_Iris'.\n"
     ]
    },
    {
     "name": "stdout",
     "output_type": "stream",
     "text": [
      "✅ Run completed for n_estimators=10, Accuracy=1.0000\n",
      "🏃 View run RF_10_trees at: http://127.0.0.1:5000/#/experiments/0/runs/727d6e0881a44140bbb4ce8d68210fb7\n",
      "🧪 View experiment at: http://127.0.0.1:5000/#/experiments/0\n"
     ]
    },
    {
     "name": "stderr",
     "output_type": "stream",
     "text": [
      "2025/09/25 14:30:09 WARNING mlflow.models.model: `artifact_path` is deprecated. Please use `name` instead.\n",
      "Registered model 'RandomForest_Iris' already exists. Creating a new version of this model...\n",
      "2025/09/25 14:30:15 INFO mlflow.store.model_registry.abstract_store: Waiting up to 300 seconds for model version to finish creation. Model name: RandomForest_Iris, version 3\n",
      "Created version '3' of model 'RandomForest_Iris'.\n"
     ]
    },
    {
     "name": "stdout",
     "output_type": "stream",
     "text": [
      "✅ Run completed for n_estimators=50, Accuracy=1.0000\n",
      "🏃 View run RF_50_trees at: http://127.0.0.1:5000/#/experiments/0/runs/0b9a0b0ebbf1456f8cbe6996f661d2e8\n",
      "🧪 View experiment at: http://127.0.0.1:5000/#/experiments/0\n"
     ]
    },
    {
     "name": "stderr",
     "output_type": "stream",
     "text": [
      "2025/09/25 14:30:15 WARNING mlflow.models.model: `artifact_path` is deprecated. Please use `name` instead.\n",
      "Registered model 'RandomForest_Iris' already exists. Creating a new version of this model...\n",
      "2025/09/25 14:30:21 INFO mlflow.store.model_registry.abstract_store: Waiting up to 300 seconds for model version to finish creation. Model name: RandomForest_Iris, version 4\n",
      "Created version '4' of model 'RandomForest_Iris'.\n"
     ]
    },
    {
     "name": "stdout",
     "output_type": "stream",
     "text": [
      "✅ Run completed for n_estimators=100, Accuracy=1.0000\n",
      "🏃 View run RF_100_trees at: http://127.0.0.1:5000/#/experiments/0/runs/129c7a89f0d9460490485de7c88ed024\n",
      "🧪 View experiment at: http://127.0.0.1:5000/#/experiments/0\n"
     ]
    },
    {
     "name": "stderr",
     "output_type": "stream",
     "text": [
      "2025/09/25 14:30:21 WARNING mlflow.models.model: `artifact_path` is deprecated. Please use `name` instead.\n",
      "Registered model 'RandomForest_Iris' already exists. Creating a new version of this model...\n",
      "2025/09/25 14:30:27 INFO mlflow.store.model_registry.abstract_store: Waiting up to 300 seconds for model version to finish creation. Model name: RandomForest_Iris, version 5\n",
      "Created version '5' of model 'RandomForest_Iris'.\n"
     ]
    },
    {
     "name": "stdout",
     "output_type": "stream",
     "text": [
      "✅ Run completed for n_estimators=200, Accuracy=1.0000\n",
      "🏃 View run RF_200_trees at: http://127.0.0.1:5000/#/experiments/0/runs/969c7dacd4204ef59dd2a6f9fbe54231\n",
      "🧪 View experiment at: http://127.0.0.1:5000/#/experiments/0\n"
     ]
    }
   ],
   "source": [
    "import mlflow\n",
    "import mlflow.sklearn\n",
    "from sklearn.datasets import load_iris\n",
    "from sklearn.ensemble import RandomForestClassifier\n",
    "from sklearn.model_selection import train_test_split\n",
    "\n",
    "# Set tracking server\n",
    "mlflow.set_tracking_uri(\"http://127.0.0.1:5000\")\n",
    "\n",
    "# Data\n",
    "X, y = load_iris(return_X_y=True)\n",
    "X_train, X_test, y_train, y_test = train_test_split(X, y, test_size=0.2, random_state=42)\n",
    "\n",
    "# Different hyperparameters to test\n",
    "n_estimators_list = [10, 50, 100, 200]\n",
    "\n",
    "for n in n_estimators_list:\n",
    "    with mlflow.start_run(run_name=f\"RF_{n}_trees\"):\n",
    "        # Train model\n",
    "        model = RandomForestClassifier(n_estimators=n, random_state=42)\n",
    "        model.fit(X_train, y_train)\n",
    "        acc = model.score(X_test, y_test)\n",
    "\n",
    "        # Log params & metrics\n",
    "        mlflow.log_param(\"n_estimators\", n)\n",
    "        mlflow.log_metric(\"accuracy\", acc)\n",
    "\n",
    "        # Log model to registry\n",
    "        mlflow.sklearn.log_model(\n",
    "            sk_model=model,\n",
    "            artifact_path=\"rf_model\",\n",
    "            input_example=X_train[:5],\n",
    "            registered_model_name=\"RandomForest_Iris\"\n",
    "        )\n",
    "\n",
    "        print(f\"✅ Run completed for n_estimators={n}, Accuracy={acc:.4f}\")"
   ]
  },
  {
   "cell_type": "code",
   "execution_count": null,
   "id": "083f41b3-3c67-4dde-9025-fa4f6ba2247b",
   "metadata": {},
   "outputs": [],
   "source": []
  }
 ],
 "metadata": {
  "kernelspec": {
   "display_name": "Python 3 (ipykernel)",
   "language": "python",
   "name": "python3"
  },
  "language_info": {
   "codemirror_mode": {
    "name": "ipython",
    "version": 3
   },
   "file_extension": ".py",
   "mimetype": "text/x-python",
   "name": "python",
   "nbconvert_exporter": "python",
   "pygments_lexer": "ipython3",
   "version": "3.11.0"
  }
 },
 "nbformat": 4,
 "nbformat_minor": 5
}
