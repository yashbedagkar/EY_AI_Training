{
 "cells": [
  {
   "cell_type": "code",
   "execution_count": 2,
   "id": "9be1e495-412f-4420-a33d-09a2906d6480",
   "metadata": {},
   "outputs": [],
   "source": [
    "import pandas as pd\n",
    "from sklearn.model_selection import train_test_split\n",
    "\n",
    "# Custom dataset: student marks and pass/fail result\n",
    "data = {\n",
    "    \"Maths\":    [30, 45, 50, 65, 70, 85, 90, 95],\n",
    "    \"Science\":  [25, 40, 55, 60, 72, 80, 88, 92],\n",
    "    \"Social\" :  [31, 43, 50, 62, 74, 81, 89, 93],\n",
    "    \"Result\":   [0, 0, 0, 1, 1, 1, 1, 1]   # 0 = Fail, 1 = Pass\n",
    "}\n",
    "\n",
    "df = pd.DataFrame(data)\n",
    "\n",
    "# Features (X) and target (y)\n",
    "X = df[[\"Maths\", \"Science\",\"Social\"]].astype(float)   # convert to float\n",
    "y = df[\"Result\"]\n",
    "\n",
    "# Train-test split\n",
    "X_train, X_test, y_train, y_test = train_test_split(\n",
    "    X, y, test_size=0.3, random_state=42\n",
    ")"
   ]
  },
  {
   "cell_type": "code",
   "execution_count": 3,
   "id": "fc4a9af1-15f3-4451-b5c0-7589abc1d36f",
   "metadata": {},
   "outputs": [
    {
     "name": "stderr",
     "output_type": "stream",
     "text": [
      "2025/09/25 15:55:15 INFO mlflow.tracking.fluent: Experiment with name 'students_pass_fail_demo_1' does not exist. Creating a new experiment.\n",
      "2025/09/25 15:55:16 WARNING mlflow.models.model: `artifact_path` is deprecated. Please use `name` instead.\n",
      "C:\\Users\\User24\\AppData\\Local\\Programs\\Python\\Python311\\Lib\\site-packages\\mlflow\\types\\utils.py:452: UserWarning: Hint: Inferred schema contains integer column(s). Integer columns in Python cannot represent missing values. If your input data contains missing values at inference time, it will be encoded as floats and will cause a schema enforcement error. The best way to avoid this problem is to infer the model schema based on a realistic data sample (training dataset) that includes missing values. Alternatively, you can declare integer columns as doubles (float64) whenever these columns may have missing values. See `Handling Integers With Missing Values <https://www.mlflow.org/docs/latest/models.html#handling-integers-with-missing-values>`_ for more details.\n",
      "  warnings.warn(\n"
     ]
    },
    {
     "name": "stdout",
     "output_type": "stream",
     "text": [
      "🏃 View run lr_students_1 at: http://127.0.0.1:5000/#/experiments/569030857626008312/runs/d24390460a3144498c166ee722f4ed4a\n",
      "🧪 View experiment at: http://127.0.0.1:5000/#/experiments/569030857626008312\n",
      "✅ Done. Open MLflow UI → http://127.0.0.1:5000\n"
     ]
    }
   ],
   "source": [
    "import mlflow\n",
    "import mlflow.sklearn\n",
    "from sklearn.linear_model import LogisticRegression\n",
    "\n",
    "# Connect MLflow\n",
    "mlflow.set_tracking_uri(\"http://127.0.0.1:5000\")\n",
    "mlflow.set_experiment(\"students_pass_fail_demo_1\") \n",
    "\n",
    "with mlflow.start_run(run_name=\"lr_students_1\"):\n",
    "    # Train model\n",
    "    model = LogisticRegression()\n",
    "    model.fit(X_train, y_train)\n",
    "    acc = model.score(X_test, y_test)\n",
    "\n",
    "    # Log info to MLflow\n",
    "    mlflow.log_param(\"model_type\", \"LogisticRegression\")\n",
    "    mlflow.log_metric(\"accuracy\", acc)\n",
    "    mlflow.sklearn.log_model(\n",
    "        model,\n",
    "        artifact_path=\"student_model_1\",\n",
    "        input_example=X_train[:2]\n",
    "    )\n",
    "\n",
    "print(\"✅ Done. Open MLflow UI → http://127.0.0.1:5000\")"
   ]
  },
  {
   "cell_type": "code",
   "execution_count": null,
   "id": "35bc3e44-565a-42bf-b8fa-a7fc9c8d72fc",
   "metadata": {},
   "outputs": [],
   "source": []
  }
 ],
 "metadata": {
  "kernelspec": {
   "display_name": "Python 3 (ipykernel)",
   "language": "python",
   "name": "python3"
  },
  "language_info": {
   "codemirror_mode": {
    "name": "ipython",
    "version": 3
   },
   "file_extension": ".py",
   "mimetype": "text/x-python",
   "name": "python",
   "nbconvert_exporter": "python",
   "pygments_lexer": "ipython3",
   "version": "3.11.0"
  }
 },
 "nbformat": 4,
 "nbformat_minor": 5
}
