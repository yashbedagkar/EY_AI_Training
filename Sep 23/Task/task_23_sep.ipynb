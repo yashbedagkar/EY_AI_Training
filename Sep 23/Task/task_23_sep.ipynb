{
 "cells": [
  {
   "cell_type": "code",
   "execution_count": 1,
   "id": "25135f67-d946-4da4-8858-c01f7e0de2d9",
   "metadata": {},
   "outputs": [
    {
     "data": {
      "text/html": [
       "<div>\n",
       "<style scoped>\n",
       "    .dataframe tbody tr th:only-of-type {\n",
       "        vertical-align: middle;\n",
       "    }\n",
       "\n",
       "    .dataframe tbody tr th {\n",
       "        vertical-align: top;\n",
       "    }\n",
       "\n",
       "    .dataframe thead th {\n",
       "        text-align: right;\n",
       "    }\n",
       "</style>\n",
       "<table border=\"1\" class=\"dataframe\">\n",
       "  <thead>\n",
       "    <tr style=\"text-align: right;\">\n",
       "      <th></th>\n",
       "      <th>Month</th>\n",
       "      <th>Product</th>\n",
       "      <th>Units_Sold</th>\n",
       "      <th>Revenue</th>\n",
       "    </tr>\n",
       "  </thead>\n",
       "  <tbody>\n",
       "    <tr>\n",
       "      <th>0</th>\n",
       "      <td>Jan</td>\n",
       "      <td>Mobile</td>\n",
       "      <td>200</td>\n",
       "      <td>300000</td>\n",
       "    </tr>\n",
       "    <tr>\n",
       "      <th>1</th>\n",
       "      <td>Feb</td>\n",
       "      <td>Mobile</td>\n",
       "      <td>220</td>\n",
       "      <td>330000</td>\n",
       "    </tr>\n",
       "    <tr>\n",
       "      <th>2</th>\n",
       "      <td>Mar</td>\n",
       "      <td>Mobile</td>\n",
       "      <td>210</td>\n",
       "      <td>315000</td>\n",
       "    </tr>\n",
       "    <tr>\n",
       "      <th>3</th>\n",
       "      <td>Jan</td>\n",
       "      <td>Laptop</td>\n",
       "      <td>120</td>\n",
       "      <td>600000</td>\n",
       "    </tr>\n",
       "    <tr>\n",
       "      <th>4</th>\n",
       "      <td>Feb</td>\n",
       "      <td>Laptop</td>\n",
       "      <td>135</td>\n",
       "      <td>675000</td>\n",
       "    </tr>\n",
       "    <tr>\n",
       "      <th>5</th>\n",
       "      <td>Mar</td>\n",
       "      <td>Laptop</td>\n",
       "      <td>150</td>\n",
       "      <td>750000</td>\n",
       "    </tr>\n",
       "    <tr>\n",
       "      <th>6</th>\n",
       "      <td>Jan</td>\n",
       "      <td>TV</td>\n",
       "      <td>80</td>\n",
       "      <td>240000</td>\n",
       "    </tr>\n",
       "    <tr>\n",
       "      <th>7</th>\n",
       "      <td>Feb</td>\n",
       "      <td>TV</td>\n",
       "      <td>95</td>\n",
       "      <td>285000</td>\n",
       "    </tr>\n",
       "    <tr>\n",
       "      <th>8</th>\n",
       "      <td>Mar</td>\n",
       "      <td>TV</td>\n",
       "      <td>100</td>\n",
       "      <td>300000</td>\n",
       "    </tr>\n",
       "  </tbody>\n",
       "</table>\n",
       "</div>"
      ],
      "text/plain": [
       "  Month Product  Units_Sold  Revenue\n",
       "0   Jan  Mobile         200   300000\n",
       "1   Feb  Mobile         220   330000\n",
       "2   Mar  Mobile         210   315000\n",
       "3   Jan  Laptop         120   600000\n",
       "4   Feb  Laptop         135   675000\n",
       "5   Mar  Laptop         150   750000\n",
       "6   Jan      TV          80   240000\n",
       "7   Feb      TV          95   285000\n",
       "8   Mar      TV         100   300000"
      ]
     },
     "execution_count": 1,
     "metadata": {},
     "output_type": "execute_result"
    }
   ],
   "source": [
    "import pandas as pd\n",
    "import matplotlib.pyplot as plt\n",
    "# Sales dataset\n",
    "data = {\n",
    "\"Month\": [\"Jan\", \"Feb\", \"Mar\", \"Jan\", \"Feb\", \"Mar\", \"Jan\", \"Feb\", \"Mar\"],\n",
    "\"Product\": [\"Mobile\", \"Mobile\", \"Mobile\", \"Laptop\", \"Laptop\", \"Laptop\", \"TV\",\n",
    "\"TV\", \"TV\"],\n",
    "\"Units_Sold\": [200, 220, 210, 120, 135, 150, 80, 95, 100],\n",
    "\"Revenue\": [300000, 330000, 315000, 600000, 675000, 750000, 240000, 285000,\n",
    "300000]\n",
    "}\n",
    "df = pd.DataFrame(data)\n",
    "df"
   ]
  },
  {
   "cell_type": "markdown",
   "id": "5556dbad-2286-43a1-8384-0a103759ea05",
   "metadata": {},
   "source": [
    "## 1.Basic Analysis"
   ]
  },
  {
   "cell_type": "markdown",
   "id": "aaafeaad-8832-48bd-af88-1d172c34d07a",
   "metadata": {},
   "source": [
    "#### Total revenue per product."
   ]
  },
  {
   "cell_type": "code",
   "execution_count": 2,
   "id": "191ee59f-a86e-4e35-9543-0e4bcc820d91",
   "metadata": {},
   "outputs": [
    {
     "data": {
      "text/plain": [
       "Product\n",
       "Laptop    2025000\n",
       "Mobile     945000\n",
       "TV         825000\n",
       "Name: Revenue, dtype: int64"
      ]
     },
     "execution_count": 2,
     "metadata": {},
     "output_type": "execute_result"
    }
   ],
   "source": [
    "total_rev_per_pro = df.groupby(\"Product\")[\"Revenue\"].sum()\n",
    "total_rev_per_pro"
   ]
  },
  {
   "cell_type": "markdown",
   "id": "a58044b0-98e8-49a3-b041-340a9c519b01",
   "metadata": {},
   "source": [
    "#### Average units sold per product"
   ]
  },
  {
   "cell_type": "code",
   "execution_count": 3,
   "id": "44c5cc08-9226-4b24-bc15-ea02ae5596b1",
   "metadata": {},
   "outputs": [
    {
     "data": {
      "text/plain": [
       "Product\n",
       "Laptop    135.000000\n",
       "Mobile    210.000000\n",
       "TV         91.666667\n",
       "Name: Units_Sold, dtype: float64"
      ]
     },
     "execution_count": 3,
     "metadata": {},
     "output_type": "execute_result"
    }
   ],
   "source": [
    "avg_units_sold_per_pro = df.groupby(\"Product\")[\"Units_Sold\"].mean()\n",
    "avg_units_sold_per_pro"
   ]
  },
  {
   "cell_type": "markdown",
   "id": "a0e4aea4-c3a3-4aa7-bb30-c243c1e0bb87",
   "metadata": {},
   "source": [
    "### Summary table"
   ]
  },
  {
   "cell_type": "code",
   "execution_count": 4,
   "id": "1104e184-bfdb-40d8-8cb3-b9e17b5a9efd",
   "metadata": {},
   "outputs": [
    {
     "data": {
      "text/html": [
       "<div>\n",
       "<style scoped>\n",
       "    .dataframe tbody tr th:only-of-type {\n",
       "        vertical-align: middle;\n",
       "    }\n",
       "\n",
       "    .dataframe tbody tr th {\n",
       "        vertical-align: top;\n",
       "    }\n",
       "\n",
       "    .dataframe thead th {\n",
       "        text-align: right;\n",
       "    }\n",
       "</style>\n",
       "<table border=\"1\" class=\"dataframe\">\n",
       "  <thead>\n",
       "    <tr style=\"text-align: right;\">\n",
       "      <th></th>\n",
       "      <th>Total Revenue</th>\n",
       "      <th>Average Units Sold</th>\n",
       "    </tr>\n",
       "    <tr>\n",
       "      <th>Product</th>\n",
       "      <th></th>\n",
       "      <th></th>\n",
       "    </tr>\n",
       "  </thead>\n",
       "  <tbody>\n",
       "    <tr>\n",
       "      <th>Laptop</th>\n",
       "      <td>2025000</td>\n",
       "      <td>135.000000</td>\n",
       "    </tr>\n",
       "    <tr>\n",
       "      <th>Mobile</th>\n",
       "      <td>945000</td>\n",
       "      <td>210.000000</td>\n",
       "    </tr>\n",
       "    <tr>\n",
       "      <th>TV</th>\n",
       "      <td>825000</td>\n",
       "      <td>91.666667</td>\n",
       "    </tr>\n",
       "  </tbody>\n",
       "</table>\n",
       "</div>"
      ],
      "text/plain": [
       "         Total Revenue  Average Units Sold\n",
       "Product                                   \n",
       "Laptop         2025000          135.000000\n",
       "Mobile          945000          210.000000\n",
       "TV              825000           91.666667"
      ]
     },
     "execution_count": 4,
     "metadata": {},
     "output_type": "execute_result"
    }
   ],
   "source": [
    "summary_table = pd.DataFrame({\"Total Revenue\" : total_rev_per_pro,\"Average Units Sold\" : avg_units_sold_per_pro})\n",
    "summary_table"
   ]
  },
  {
   "cell_type": "markdown",
   "id": "335b5df6-b25e-4b52-a586-8c8d2ebaa130",
   "metadata": {},
   "source": [
    "## Visualization 1 – Line Chart"
   ]
  },
  {
   "cell_type": "markdown",
   "id": "e9a0f9c8-4c74-4db4-ac20-667cd785212b",
   "metadata": {},
   "source": [
    "#### Monthly Revenue Trend for each product (Jan–Mar)"
   ]
  },
  {
   "cell_type": "code",
   "execution_count": 5,
   "id": "6b36638f-768a-4d5f-914f-a8924ae5d168",
   "metadata": {},
   "outputs": [
    {
     "data": {
      "image/png": "[encoded data removed]",
      "text/plain": [
       "<Figure size 640x480 with 1 Axes>"
      ]
     },
     "metadata": {},
     "output_type": "display_data"
    }
   ],
   "source": [
    "for product in df[\"Product\"].unique():\n",
    "    product_data= df[df[\"Product\"] == product]\n",
    "    plt.plot(product_data[\"Month\"],\n",
    "product_data[\"Revenue\"],label=product)\n",
    "\n",
    "plt.title(\"Monthly Revenue trend\")\n",
    "plt.xlabel(\"Month\")\n",
    "plt.ylabel(\"Revenue\")\n",
    "plt.legend()\n",
    "\n",
    "plt.show()"
   ]
  },
  {
   "cell_type": "markdown",
   "id": "9b739b89-136b-4508-a979-def8965d14a3",
   "metadata": {},
   "source": [
    "## Visualization 2 – Bar Chart"
   ]
  },
  {
   "cell_type": "markdown",
   "id": "6919dddf-69a4-4837-9d61-3a0cafd17982",
   "metadata": {},
   "source": [
    "#### Bar chart of total revenue per product"
   ]
  },
  {
   "cell_type": "code",
   "execution_count": 6,
   "id": "dda1c7f1-bea5-4acd-9b11-56b0858a5193",
   "metadata": {},
   "outputs": [
    {
     "data": {
      "image/png": "[encoded data removed]",
      "text/plain": [
       "<Figure size 640x480 with 1 Axes>"
      ]
     },
     "metadata": {},
     "output_type": "display_data"
    }
   ],
   "source": [
    "total_rev_per_pro.plot(kind=\"bar\",color=\"skyblue\")\n",
    "plt.title(\"Total Revenue per product\")\n",
    "plt.xlabel(\"Product\")\n",
    "plt.ylabel(\"Total Revenue\")\n",
    "plt.xticks(rotation=0)\n",
    "plt.show()"
   ]
  },
  {
   "cell_type": "markdown",
   "id": "0400d768-5f16-4833-964c-31d80e0a2bed",
   "metadata": {},
   "source": [
    "## Visualization 3 – Pie Chart"
   ]
  },
  {
   "cell_type": "markdown",
   "id": "87ec482d-2c94-481e-9352-fa3b9a49c63f",
   "metadata": {},
   "source": [
    "#### Pie chart showing the contribution of each product to total revenue"
   ]
  },
  {
   "cell_type": "code",
   "execution_count": 7,
   "id": "432c5ec3-263f-4c38-a10e-5ab2912cd4e4",
   "metadata": {},
   "outputs": [
    {
     "data": {
      "text/plain": [
       "Text(0.5, 1.0, 'Revenue contribution by product')"
      ]
     },
     "execution_count": 7,
     "metadata": {},
     "output_type": "execute_result"
    },
    {
     "data": {
      "image/png": "[encoded data removed]",
      "text/plain": [
       "<Figure size 640x480 with 1 Axes>"
      ]
     },
     "metadata": {},
     "output_type": "display_data"
    }
   ],
   "source": [
    "total_rev_per_pro.plot(kind=\"pie\",autopct=\"%1.1f%%\",startangle=0,color=[\"skyblue\",\"orange\",\"green\"])\n",
    "plt.title(\"Revenue contribution by product\")"
   ]
  },
  {
   "cell_type": "code",
   "execution_count": null,
   "id": "38b921e4-fe7e-4fed-859f-9ad3bc60ccc3",
   "metadata": {},
   "outputs": [],
   "source": []
  }
 ],
 "metadata": {
  "kernelspec": {
   "display_name": "Python 3 (ipykernel)",
   "language": "python",
   "name": "python3"
  },
  "language_info": {
   "codemirror_mode": {
    "name": "ipython",
    "version": 3
   },
   "file_extension": ".py",
   "mimetype": "text/x-python",
   "name": "python",
   "nbconvert_exporter": "python",
   "pygments_lexer": "ipython3",
   "version": "3.11.0"
  }
 },
 "nbformat": 4,
 "nbformat_minor": 5
}
